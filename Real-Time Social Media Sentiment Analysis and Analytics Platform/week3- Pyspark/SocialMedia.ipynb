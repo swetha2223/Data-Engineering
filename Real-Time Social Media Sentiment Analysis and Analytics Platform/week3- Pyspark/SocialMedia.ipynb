{
  "nbformat": 4,
  "nbformat_minor": 0,
  "metadata": {
    "colab": {
      "provenance": []
    },
    "kernelspec": {
      "name": "python3",
      "display_name": "Python 3"
    },
    "language_info": {
      "name": "python"
    }
  },
  "cells": [
    {
      "cell_type": "code",
      "source": [
        "pip install pyspark"
      ],
      "metadata": {
        "colab": {
          "base_uri": "https://localhost:8080/"
        },
        "id": "8KWu7bc6Jch3",
        "outputId": "8999db97-a042-462f-b2b1-d936b38cb272"
      },
      "execution_count": 1,
      "outputs": [
        {
          "output_type": "stream",
          "name": "stdout",
          "text": [
            "Collecting pyspark\n",
            "  Downloading pyspark-3.5.2.tar.gz (317.3 MB)\n",
            "\u001b[2K     \u001b[90m━━━━━━━━━━━━━━━━━━━━━━━━━━━━━━━━━━━━━━━━\u001b[0m \u001b[32m317.3/317.3 MB\u001b[0m \u001b[31m3.1 MB/s\u001b[0m eta \u001b[36m0:00:00\u001b[0m\n",
            "\u001b[?25h  Preparing metadata (setup.py) ... \u001b[?25l\u001b[?25hdone\n",
            "Requirement already satisfied: py4j==0.10.9.7 in /usr/local/lib/python3.10/dist-packages (from pyspark) (0.10.9.7)\n",
            "Building wheels for collected packages: pyspark\n",
            "  Building wheel for pyspark (setup.py) ... \u001b[?25l\u001b[?25hdone\n",
            "  Created wheel for pyspark: filename=pyspark-3.5.2-py2.py3-none-any.whl size=317812365 sha256=ae9cb55f1bcd674f798737266e3588842b809bdcbd7fb38a63c3ce4b3da29d5a\n",
            "  Stored in directory: /root/.cache/pip/wheels/34/34/bd/03944534c44b677cd5859f248090daa9fb27b3c8f8e5f49574\n",
            "Successfully built pyspark\n",
            "Installing collected packages: pyspark\n",
            "Successfully installed pyspark-3.5.2\n"
          ]
        }
      ]
    },
    {
      "cell_type": "code",
      "source": [
        "from pyspark.sql import SparkSession\n",
        "spark = SparkSession.builder \\\n",
        "    .appName(\"DataIngesttion\") \\\n",
        "    .getOrCreate()\n",
        "\n",
        "csv_file_path = \"/content/social media.csv\"\n",
        "df_csv = spark.read.format(\"csv\").option(\"header\", \"true\").load(csv_file_path)\n",
        "df_csv.show()"
      ],
      "metadata": {
        "colab": {
          "base_uri": "https://localhost:8080/"
        },
        "id": "loYzRZ9nJawf",
        "outputId": "5d285915-36a9-4596-a4bc-d2e69a2e17a4"
      },
      "execution_count": 4,
      "outputs": [
        {
          "output_type": "stream",
          "name": "stdout",
          "text": [
            "+-------+-------+--------------+-----------+---------------+---------------------+------------+--------------------+----------+------------------+--------------+----------------+\n",
            "|post_id|user_id|      username|   location|followers_count|profile_creation_date|post_content|           post_date|  platform|sentiment_score_id|sentiment_type|confidence_score|\n",
            "+-------+-------+--------------+-----------+---------------+---------------------+------------+--------------------+----------+------------------+--------------+----------------+\n",
            "|    101|      1|      john_doe|   New York|            USA|                  500|  2022-01-15|Loving the new pr...|2024-09-18|           Twitter|             1|        positive|\n",
            "|    102|      2|    jane_smith|     London|             UK|                 1200|  2020-06-25|This service is t...|2024-09-19|          Facebook|             2|        negative|\n",
            "|    103|      3|    mike_brown|    Toronto|         Canada|                  900|  2021-05-10|The update feels ...|2024-09-20|         Instagram|             3|         neutral|\n",
            "|    104|      4|    alice_wong|     Sydney|      Australia|                 1500|  2019-11-20|The best app I’ve...|2024-09-18|          LinkedIn|             4|        positive|\n",
            "|    105|      5|       lucy_li|    Beijing|          China|                  700|  2023-03-05|I am really disap...|2024-09-19|           Twitter|             5|        negative|\n",
            "|    106|      6|    raj_kapoor|     Mumbai|          India|                 3000|  2018-07-14|Neutral feelings ...|2024-09-18|          Facebook|             6|         neutral|\n",
            "|    107|      7|  carla_garcia|     Madrid|          Spain|                 1100|  2021-09-30|This product keep...|2024-09-20|         Instagram|             7|        positive|\n",
            "|    108|      8| fatima_hassan|      Cairo|          Egypt|                  400|  2020-12-12|Absolutely frustr...|2024-09-19|          LinkedIn|             8|        negative|\n",
            "|    109|      9|   david_jones|  Cape Town|   South Africa|                  850|  2022-06-01|I don’t feel stro...|2024-09-18|           Twitter|             9|         neutral|\n",
            "|    110|     10|sofia_martinez|Mexico City|         Mexico|                 1300|  2020-04-18|I would highly re...|2024-09-20|          Facebook|            10|        positive|\n",
            "+-------+-------+--------------+-----------+---------------+---------------------+------------+--------------------+----------+------------------+--------------+----------------+\n",
            "\n"
          ]
        }
      ]
    },
    {
      "cell_type": "code",
      "source": [
        "# @title Data preprocessing\n"
      ],
      "metadata": {
        "id": "wgylJY20SbR9"
      },
      "execution_count": null,
      "outputs": []
    },
    {
      "cell_type": "code",
      "source": [
        "###Drop Rows with Missing Values\n",
        "\n",
        "# Drop rows with any null values\n",
        "df_clean = df_csv.dropna()\n",
        "\n",
        "# Drop rows with missing values only in specific columns (e.g., 'post_content' or 'sentiment_type')\n",
        "df_clean = df_csv.dropna(subset=['post_content', 'sentiment_type'])\n",
        "\n",
        "# Show the DataFrame after dropping missing values\n",
        "df_clean.show()\n"
      ],
      "metadata": {
        "colab": {
          "base_uri": "https://localhost:8080/"
        },
        "id": "TQxCQrAiSALe",
        "outputId": "4b182cc0-3475-4388-bfcf-b930f4aebdfa"
      },
      "execution_count": 6,
      "outputs": [
        {
          "output_type": "stream",
          "name": "stdout",
          "text": [
            "+-------+-------+--------------+-----------+---------------+---------------------+------------+--------------------+----------+------------------+--------------+----------------+\n",
            "|post_id|user_id|      username|   location|followers_count|profile_creation_date|post_content|           post_date|  platform|sentiment_score_id|sentiment_type|confidence_score|\n",
            "+-------+-------+--------------+-----------+---------------+---------------------+------------+--------------------+----------+------------------+--------------+----------------+\n",
            "|    101|      1|      john_doe|   New York|            USA|                  500|  2022-01-15|Loving the new pr...|2024-09-18|           Twitter|             1|        positive|\n",
            "|    102|      2|    jane_smith|     London|             UK|                 1200|  2020-06-25|This service is t...|2024-09-19|          Facebook|             2|        negative|\n",
            "|    103|      3|    mike_brown|    Toronto|         Canada|                  900|  2021-05-10|The update feels ...|2024-09-20|         Instagram|             3|         neutral|\n",
            "|    104|      4|    alice_wong|     Sydney|      Australia|                 1500|  2019-11-20|The best app I’ve...|2024-09-18|          LinkedIn|             4|        positive|\n",
            "|    105|      5|       lucy_li|    Beijing|          China|                  700|  2023-03-05|I am really disap...|2024-09-19|           Twitter|             5|        negative|\n",
            "|    106|      6|    raj_kapoor|     Mumbai|          India|                 3000|  2018-07-14|Neutral feelings ...|2024-09-18|          Facebook|             6|         neutral|\n",
            "|    107|      7|  carla_garcia|     Madrid|          Spain|                 1100|  2021-09-30|This product keep...|2024-09-20|         Instagram|             7|        positive|\n",
            "|    108|      8| fatima_hassan|      Cairo|          Egypt|                  400|  2020-12-12|Absolutely frustr...|2024-09-19|          LinkedIn|             8|        negative|\n",
            "|    109|      9|   david_jones|  Cape Town|   South Africa|                  850|  2022-06-01|I don’t feel stro...|2024-09-18|           Twitter|             9|         neutral|\n",
            "|    110|     10|sofia_martinez|Mexico City|         Mexico|                 1300|  2020-04-18|I would highly re...|2024-09-20|          Facebook|            10|        positive|\n",
            "+-------+-------+--------------+-----------+---------------+---------------------+------------+--------------------+----------+------------------+--------------+----------------+\n",
            "\n"
          ]
        }
      ]
    },
    {
      "cell_type": "code",
      "source": [
        "###Fill Missing Values\n",
        "\n",
        "# Fill missing values for numeric columns (e.g., 'followers_count', 'confidence_score') with 0\n",
        "df_filled = df_csv.fillna({\n",
        "    'followers_count': 0,\n",
        "    'confidence_score': 0\n",
        "})\n",
        "\n",
        "# Fill missing values for string columns (e.g., 'post_content', 'username') with 'Unknown' or empty string\n",
        "df_filled = df_filled.fillna({\n",
        "    'post_content': 'No content',\n",
        "    'username': 'Unknown'\n",
        "})\n",
        "\n",
        "# Show the DataFrame after filling missing values\n",
        "df_filled.show()\n"
      ],
      "metadata": {
        "colab": {
          "base_uri": "https://localhost:8080/"
        },
        "id": "J7bT0FdrSBL1",
        "outputId": "3e9f0ca1-2352-49e5-dead-a2f9235a4a8c"
      },
      "execution_count": 7,
      "outputs": [
        {
          "output_type": "stream",
          "name": "stdout",
          "text": [
            "+-------+-------+--------------+-----------+---------------+---------------------+------------+--------------------+----------+------------------+--------------+----------------+\n",
            "|post_id|user_id|      username|   location|followers_count|profile_creation_date|post_content|           post_date|  platform|sentiment_score_id|sentiment_type|confidence_score|\n",
            "+-------+-------+--------------+-----------+---------------+---------------------+------------+--------------------+----------+------------------+--------------+----------------+\n",
            "|    101|      1|      john_doe|   New York|            USA|                  500|  2022-01-15|Loving the new pr...|2024-09-18|           Twitter|             1|        positive|\n",
            "|    102|      2|    jane_smith|     London|             UK|                 1200|  2020-06-25|This service is t...|2024-09-19|          Facebook|             2|        negative|\n",
            "|    103|      3|    mike_brown|    Toronto|         Canada|                  900|  2021-05-10|The update feels ...|2024-09-20|         Instagram|             3|         neutral|\n",
            "|    104|      4|    alice_wong|     Sydney|      Australia|                 1500|  2019-11-20|The best app I’ve...|2024-09-18|          LinkedIn|             4|        positive|\n",
            "|    105|      5|       lucy_li|    Beijing|          China|                  700|  2023-03-05|I am really disap...|2024-09-19|           Twitter|             5|        negative|\n",
            "|    106|      6|    raj_kapoor|     Mumbai|          India|                 3000|  2018-07-14|Neutral feelings ...|2024-09-18|          Facebook|             6|         neutral|\n",
            "|    107|      7|  carla_garcia|     Madrid|          Spain|                 1100|  2021-09-30|This product keep...|2024-09-20|         Instagram|             7|        positive|\n",
            "|    108|      8| fatima_hassan|      Cairo|          Egypt|                  400|  2020-12-12|Absolutely frustr...|2024-09-19|          LinkedIn|             8|        negative|\n",
            "|    109|      9|   david_jones|  Cape Town|   South Africa|                  850|  2022-06-01|I don’t feel stro...|2024-09-18|           Twitter|             9|         neutral|\n",
            "|    110|     10|sofia_martinez|Mexico City|         Mexico|                 1300|  2020-04-18|I would highly re...|2024-09-20|          Facebook|            10|        positive|\n",
            "+-------+-------+--------------+-----------+---------------+---------------------+------------+--------------------+----------+------------------+--------------+----------------+\n",
            "\n"
          ]
        }
      ]
    },
    {
      "cell_type": "code",
      "source": [
        "####Handling Missing Values Condition-based\n",
        "\n",
        "\n",
        "\n",
        "# Drop rows where 'post_content' or 'sentiment_score_id' is null\n",
        "df_clean = df_csv.dropna(subset=['post_content', 'sentiment_score_id'])\n",
        "\n",
        "# Fill missing 'followers_count' with 0 and 'sentiment_type' with 'unknown'\n",
        "df_filled = df_clean.fillna({\n",
        "    'followers_count': 0,\n",
        "    'sentiment_type': 'unknown'\n",
        "})\n",
        "\n",
        "# Show the final DataFrame\n",
        "df_filled.show()\n"
      ],
      "metadata": {
        "colab": {
          "base_uri": "https://localhost:8080/"
        },
        "id": "dcQaRCS2SLmu",
        "outputId": "923c764f-c292-48f4-edc5-a320895c43f3"
      },
      "execution_count": 8,
      "outputs": [
        {
          "output_type": "stream",
          "name": "stdout",
          "text": [
            "+-------+-------+--------------+-----------+---------------+---------------------+------------+--------------------+----------+------------------+--------------+----------------+\n",
            "|post_id|user_id|      username|   location|followers_count|profile_creation_date|post_content|           post_date|  platform|sentiment_score_id|sentiment_type|confidence_score|\n",
            "+-------+-------+--------------+-----------+---------------+---------------------+------------+--------------------+----------+------------------+--------------+----------------+\n",
            "|    101|      1|      john_doe|   New York|            USA|                  500|  2022-01-15|Loving the new pr...|2024-09-18|           Twitter|             1|        positive|\n",
            "|    102|      2|    jane_smith|     London|             UK|                 1200|  2020-06-25|This service is t...|2024-09-19|          Facebook|             2|        negative|\n",
            "|    103|      3|    mike_brown|    Toronto|         Canada|                  900|  2021-05-10|The update feels ...|2024-09-20|         Instagram|             3|         neutral|\n",
            "|    104|      4|    alice_wong|     Sydney|      Australia|                 1500|  2019-11-20|The best app I’ve...|2024-09-18|          LinkedIn|             4|        positive|\n",
            "|    105|      5|       lucy_li|    Beijing|          China|                  700|  2023-03-05|I am really disap...|2024-09-19|           Twitter|             5|        negative|\n",
            "|    106|      6|    raj_kapoor|     Mumbai|          India|                 3000|  2018-07-14|Neutral feelings ...|2024-09-18|          Facebook|             6|         neutral|\n",
            "|    107|      7|  carla_garcia|     Madrid|          Spain|                 1100|  2021-09-30|This product keep...|2024-09-20|         Instagram|             7|        positive|\n",
            "|    108|      8| fatima_hassan|      Cairo|          Egypt|                  400|  2020-12-12|Absolutely frustr...|2024-09-19|          LinkedIn|             8|        negative|\n",
            "|    109|      9|   david_jones|  Cape Town|   South Africa|                  850|  2022-06-01|I don’t feel stro...|2024-09-18|           Twitter|             9|         neutral|\n",
            "|    110|     10|sofia_martinez|Mexico City|         Mexico|                 1300|  2020-04-18|I would highly re...|2024-09-20|          Facebook|            10|        positive|\n",
            "+-------+-------+--------------+-----------+---------------+---------------------+------------+--------------------+----------+------------------+--------------+----------------+\n",
            "\n"
          ]
        }
      ]
    },
    {
      "cell_type": "code",
      "source": [
        "#2.Real-Time Sentiment Analysis: Use PySpark to process real-time posts and compute sentiment scores for each post."
      ],
      "metadata": {
        "id": "ynWBRPhuTarB"
      },
      "execution_count": null,
      "outputs": []
    },
    {
      "cell_type": "code",
      "source": [
        "from pyspark.sql import SparkSession\n",
        "from pyspark.sql.functions import udf\n",
        "from pyspark.sql.types import StringType\n",
        "import nltk\n",
        "from nltk.sentiment.vader import SentimentIntensityAnalyzer\n",
        "\n",
        "# Initialize Spark session\n",
        "spark = SparkSession.builder.appName(\"RealTimeSentimentAnalysis\").getOrCreate()\n",
        "\n",
        "# Load CSV data\n",
        "csv_file_path = \"/content/social media.csv\"\n",
        "df_csv = spark.read.format(\"csv\").option(\"header\", \"true\").load(csv_file_path)\n",
        "\n",
        "# Clean and handle missing values\n",
        "df_clean = df_csv.dropna(subset=['post_content', 'sentiment_score_id'])\n",
        "df_filled = df_clean.fillna({'followers_count': 0, 'sentiment_type': 'unknown'})\n",
        "\n",
        "# Download and initialize VADER sentiment analyzer\n",
        "nltk.download('vader_lexicon')\n",
        "sid = SentimentIntensityAnalyzer()\n",
        "\n",
        "# Define UDF to compute sentiment\n",
        "def compute_sentiment(post_content):\n",
        "    score = sid.polarity_scores(post_content)\n",
        "    if score['compound'] >= 0.05:\n",
        "        return 'positive'\n",
        "    elif score['compound'] <= -0.05:\n",
        "        return 'negative'\n",
        "    else:\n",
        "        return 'neutral'\n",
        "\n",
        "# Register UDF\n",
        "sentiment_udf = udf(compute_sentiment, StringType())\n",
        "\n",
        "# Apply UDF to compute sentiment and create a new 'sentiment' column\n",
        "df_with_sentiment = df_filled.withColumn(\"sentiment\", sentiment_udf(df_filled[\"post_content\"]))\n",
        "\n",
        "# Select relevant columns and show the final DataFrame\n",
        "df_final = df_with_sentiment.select(\"post_id\", \"post_content\", \"platform\", \"sentiment\")\n",
        "df_final.show()\n"
      ],
      "metadata": {
        "colab": {
          "base_uri": "https://localhost:8080/"
        },
        "id": "vJ3_3zHXTjVn",
        "outputId": "37e70c9c-7640-4a27-c3d3-9a3a101863e9"
      },
      "execution_count": 11,
      "outputs": [
        {
          "output_type": "stream",
          "name": "stderr",
          "text": [
            "[nltk_data] Downloading package vader_lexicon to /root/nltk_data...\n",
            "[nltk_data]   Package vader_lexicon is already up-to-date!\n"
          ]
        },
        {
          "output_type": "stream",
          "name": "stdout",
          "text": [
            "+-------+------------+----------+---------+\n",
            "|post_id|post_content|  platform|sentiment|\n",
            "+-------+------------+----------+---------+\n",
            "|    101|  2022-01-15|2024-09-18|  neutral|\n",
            "|    102|  2020-06-25|2024-09-19|  neutral|\n",
            "|    103|  2021-05-10|2024-09-20|  neutral|\n",
            "|    104|  2019-11-20|2024-09-18|  neutral|\n",
            "|    105|  2023-03-05|2024-09-19|  neutral|\n",
            "|    106|  2018-07-14|2024-09-18|  neutral|\n",
            "|    107|  2021-09-30|2024-09-20|  neutral|\n",
            "|    108|  2020-12-12|2024-09-19|  neutral|\n",
            "|    109|  2022-06-01|2024-09-18|  neutral|\n",
            "|    110|  2020-04-18|2024-09-20|  neutral|\n",
            "+-------+------------+----------+---------+\n",
            "\n"
          ]
        }
      ]
    },
    {
      "cell_type": "code",
      "source": [
        " # 3. Real-Time Trend Analysis: Calculate and update sentiment trends in real-time."
      ],
      "metadata": {
        "id": "HdmMPD4YWKE8"
      },
      "execution_count": null,
      "outputs": []
    },
    {
      "cell_type": "code",
      "source": [
        "from pyspark.sql import SparkSession\n",
        "from pyspark.sql.functions import udf, to_date, count\n",
        "from pyspark.sql.types import StringType\n",
        "from nltk.sentiment.vader import SentimentIntensityAnalyzer\n",
        "import nltk\n",
        "\n",
        "# Initialize Spark session\n",
        "spark = SparkSession.builder.appName(\"RealTimeSentimentTrend\").getOrCreate()\n",
        "\n",
        "# Load CSV data\n",
        "\n",
        "csv_file_path = \"/content/social media.csv\"\n",
        "df_csv = spark.read.format(\"csv\").option(\"header\", \"true\").load(csv_file_path)\n",
        "\n",
        "# Initialize VADER\n",
        "nltk.download('vader_lexicon')\n",
        "sid = SentimentIntensityAnalyzer()\n",
        "\n",
        "# UDF for sentiment analysis\n",
        "def compute_sentiment(post_content):\n",
        "    score = sid.polarity_scores(post_content)\n",
        "    return 'positive' if score['compound'] >= 0.05 else 'negative' if score['compound'] <= -0.05 else 'neutral'\n",
        "\n",
        "sentiment_udf = udf(compute_sentiment, StringType())\n",
        "\n",
        "# Apply UDF and compute sentiment\n",
        "df_with_sentiment = df_csv.withColumn(\"sentiment\", sentiment_udf(df_csv[\"post_content\"]))\n",
        "\n",
        "# Add 'date' column based on 'post_date'\n",
        "df_with_sentiment = df_with_sentiment.withColumn(\"date\", to_date(df_with_sentiment[\"post_date\"]))\n",
        "\n",
        "# Group by date and sentiment type to calculate sentiment trends\n",
        "df_trend = df_with_sentiment.groupBy(\"date\", \"sentiment\").agg(count(\"post_id\").alias(\"sentiment_count\"))\n",
        "\n",
        "# Show the trends\n",
        "df_trend.show()\n"
      ],
      "metadata": {
        "colab": {
          "base_uri": "https://localhost:8080/"
        },
        "id": "d12OmislVoqa",
        "outputId": "be75fabe-af42-4c59-cd86-a165e4f5ba37"
      },
      "execution_count": 14,
      "outputs": [
        {
          "output_type": "stream",
          "name": "stderr",
          "text": [
            "[nltk_data] Downloading package vader_lexicon to /root/nltk_data...\n",
            "[nltk_data]   Package vader_lexicon is already up-to-date!\n"
          ]
        },
        {
          "output_type": "stream",
          "name": "stdout",
          "text": [
            "+----+---------+---------------+\n",
            "|date|sentiment|sentiment_count|\n",
            "+----+---------+---------------+\n",
            "|NULL|  neutral|             10|\n",
            "+----+---------+---------------+\n",
            "\n"
          ]
        }
      ]
    },
    {
      "cell_type": "code",
      "source": [],
      "metadata": {
        "id": "yse8qWLzVoT8"
      },
      "execution_count": null,
      "outputs": []
    }
  ]
}