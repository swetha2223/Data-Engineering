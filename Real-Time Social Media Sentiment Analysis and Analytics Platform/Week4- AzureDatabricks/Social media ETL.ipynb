{
 "cells": [
  {
   "cell_type": "markdown",
   "metadata": {},
   "source": [
    "Create an ETL Pipeline using DLT"
   ]
  },
  {
   "cell_type": "markdown",
   "metadata": {},
   "source": [
    "# Data Extraction"
   ]
  },
  {
   "cell_type": "code",
   "execution_count": null,
   "metadata": {},
   "outputs": [],
   "source": [
    "dbutils.fs.cp(\"file:/Workspace/Shared/merged_user_post_data.csv\", \"dbfs:/FileStore/streaming/input/merged_user_post_data.csv\") "
   ]
  },
  {
   "cell_type": "markdown",
   "metadata": {},
   "source": [
    "# Data transformation"
   ]
  },
  {
   "cell_type": "code",
   "execution_count": null,
   "metadata": {},
   "outputs": [],
   "source": [
    "df_Social_media = spark.read.format(\"csv\").option(\"header\", \"true\").option(\"inferSchema\", \"true\").load(\"dbfs:/FileStore/streaming/merged_user_post_data.csv\")\n",
    "\n",
    "df_Social_media.write.format(\"delta\").mode(\"overwrite\").save(\"/delta/merged_user_post_data\")\n"
   ]
  },
  {
   "cell_type": "code",
   "execution_count": null,
   "metadata": {
    "vscode": {
     "languageId": "sql"
    }
   },
   "outputs": [],
   "source": [
    "##  Step 1: Load (Extract) the merged data\n",
    "CREATE OR REPLACE LIVE TABLE merged_user_post AS\n",
    "SELECT * FROM delta.`/delta/merged_user_post_data`;\n",
    "\n",
    "## Step 2: Perform additional transformations if required (Transform)\n",
    "CREATE OR REPLACE LIVE TABLE transformed_user_post AS\n",
    "SELECT \n",
    "    user_id, \n",
    "    user_name, \n",
    "    location, \n",
    "    date_joined, \n",
    "    post_id, \n",
    "    post_text, \n",
    "    platform, \n",
    "    post_date, \n",
    "    sentiment_score\n",
    "FROM merged_user_post\n",
    "WHERE platform != 'Diff_source'\n",
    "AND sentiment_score IS NOT NULL;"
   ]
  },
  {
   "cell_type": "markdown",
   "metadata": {},
   "source": [
    "# Data Loading"
   ]
  },
  {
   "cell_type": "code",
   "execution_count": null,
   "metadata": {
    "vscode": {
     "languageId": "sql"
    }
   },
   "outputs": [],
   "source": [
    "\n",
    "CREATE OR REPLACE LIVE TABLE final_user_post_delta AS\n",
    "SELECT * FROM transformed_user_post;"
   ]
  }
 ],
 "metadata": {
  "kernelspec": {
   "display_name": "Python 3",
   "language": "python",
   "name": "python3"
  },
  "language_info": {
   "name": "python",
   "version": "3.12.2"
  }
 },
 "nbformat": 4,
 "nbformat_minor": 2
}
