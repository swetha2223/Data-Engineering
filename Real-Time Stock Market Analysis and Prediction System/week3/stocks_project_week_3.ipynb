{
  "nbformat": 4,
  "nbformat_minor": 0,
  "metadata": {
    "colab": {
      "provenance": []
    },
    "kernelspec": {
      "name": "python3",
      "display_name": "Python 3"
    },
    "language_info": {
      "name": "python"
    }
  },
  "cells": [
    {
      "cell_type": "code",
      "execution_count": 1,
      "metadata": {
        "colab": {
          "base_uri": "https://localhost:8080/"
        },
        "id": "oMB29F0dJ7NF",
        "outputId": "d5f580fc-f572-4c3c-94b5-2cffa0f93d8a"
      },
      "outputs": [
        {
          "output_type": "stream",
          "name": "stdout",
          "text": [
            "Collecting pyspark\n",
            "  Downloading pyspark-3.5.3.tar.gz (317.3 MB)\n",
            "\u001b[2K     \u001b[90m━━━━━━━━━━━━━━━━━━━━━━━━━━━━━━━━━━━━━━━━\u001b[0m \u001b[32m317.3/317.3 MB\u001b[0m \u001b[31m4.4 MB/s\u001b[0m eta \u001b[36m0:00:00\u001b[0m\n",
            "\u001b[?25h  Preparing metadata (setup.py) ... \u001b[?25l\u001b[?25hdone\n",
            "Requirement already satisfied: py4j==0.10.9.7 in /usr/local/lib/python3.10/dist-packages (from pyspark) (0.10.9.7)\n",
            "Building wheels for collected packages: pyspark\n",
            "  Building wheel for pyspark (setup.py) ... \u001b[?25l\u001b[?25hdone\n",
            "  Created wheel for pyspark: filename=pyspark-3.5.3-py2.py3-none-any.whl size=317840625 sha256=0e2610ef5f2049e6e027d06ec53aa99289563e030844ce8fb4aeb9e50c5ed011\n",
            "  Stored in directory: /root/.cache/pip/wheels/1b/3a/92/28b93e2fbfdbb07509ca4d6f50c5e407f48dce4ddbda69a4ab\n",
            "Successfully built pyspark\n",
            "Installing collected packages: pyspark\n",
            "Successfully installed pyspark-3.5.3\n"
          ]
        }
      ],
      "source": [
        "!pip install pyspark"
      ]
    },
    {
      "cell_type": "code",
      "source": [
        "from pyspark.sql import SparkSession\n",
        "from pyspark.sql.functions import *\n",
        "from pyspark.sql.types import *\n",
        "\n",
        "spark=SparkSession.builder.appName(\"stocks project\").getOrCreate()\n",
        "df=spark.read.csv(\"/content/cleaned_data.csv\",header=True,inferSchema=True)\n",
        "df.printSchema()\n",
        "df.write.format(\"delta\").mode(\"overwrite\").save(\"/content/cleaned_data_delta\")\n",
        "delta_df=spark.read.format(\"delta\").load(\"/content/cleaned_data_delta\")\n",
        "\n",
        "delta_table=spark.readTable(\"cleaned_data_delta\")\n",
        "delta_table.printSchema()\n",
        "delta_table.show()\n",
        "spark.sql(\"optimize cleaned_data_delta\")\n",
        "spark.sql(\"vacuum cleaned_data_delta retain 168 hours\")"
      ],
      "metadata": {
        "id": "IWu14VacJ7z9"
      },
      "execution_count": null,
      "outputs": []
    },
    {
      "cell_type": "code",
      "source": [
        "from pyspark.sql import SparkSession\n",
        "from pyspark.sql.functions import *\n",
        "from pyspark.sql.types import *\n",
        "import pyspark.sql.functions as F\n",
        "\n",
        "spark = SparkSession.builder \\\n",
        "    .appName(\"stocks project\") \\\n",
        "    .getOrCreate()\n",
        "\n",
        "# Read streaming data from a socket (for demonstration purposes)\n",
        "df_stream = spark.readStream \\\n",
        "    .format(\"csv\") \\\n",
        "    .option(\"header\", \"true\") \\\n",
        "    .schema(\"Stock_id INT, Company_id INT, Stock_Price FLOAT, Trading_Volume INT, Moving_Average FLOAT, Market_Cap FLOAT, RSI FLOAT, Record_Time TIMESTAMP\") \\\n",
        "    .load(\"/content/cleaned_data.csv\")\n",
        "\n",
        "query=df_stream.writeStream.format(\"console\").outputMode(\"append\").start()\n",
        "# Calculate the average of Moving_average\n",
        "# Filter the anomalies\n",
        "anomalies = df_stream.filter(\n",
        "    (F.col('Market_Cap') < 10) |\n",
        "    (F.col(\"trading_volume\") > 1000000)\n",
        ")\n",
        "anomalies.printSchema()\n",
        "query2=anomalies.writeStream.format(\"console\").outputMode(\"append\").start()"
      ],
      "metadata": {
        "id": "HuqX-NKxKCIj"
      },
      "execution_count": null,
      "outputs": []
    }
  ]
}