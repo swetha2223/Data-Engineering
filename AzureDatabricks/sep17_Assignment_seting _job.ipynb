{
 "cells": [
  {
   "cell_type": "code",
   "execution_count": 0,
   "metadata": {
    "application/vnd.databricks.v1+cell": {
     "cellMetadata": {
      "byteLimit": 2048000,
      "rowLimit": 10000
     },
     "inputWidgets": {},
     "nuid": "2b006c48-50a9-45f8-ad99-58bf5a251f2d",
     "showTitle": false,
     "title": ""
    }
   },
   "outputs": [
    {
     "output_type": "stream",
     "name": "stdout",
     "output_type": "stream",
     "text": [
      "root\n |-- OrderID: string (nullable = true)\n |-- OrderDate: string (nullable = true)\n |-- CustomerID: string (nullable = true)\n |-- Product: string (nullable = true)\n |-- Quantity: string (nullable = true)\n |-- Price: string (nullable = true)\n\n"
     ]
    },
    {
     "output_type": "display_data",
     "data": {
      "text/html": [
       "<style scoped>\n",
       "  .table-result-container {\n",
       "    max-height: 300px;\n",
       "    overflow: auto;\n",
       "  }\n",
       "  table, th, td {\n",
       "    border: 1px solid black;\n",
       "    border-collapse: collapse;\n",
       "  }\n",
       "  th, td {\n",
       "    padding: 5px;\n",
       "  }\n",
       "  th {\n",
       "    text-align: left;\n",
       "  }\n",
       "</style><div class='table-result-container'><table class='table-result'><thead style='background-color: white'><tr><th>OrderID</th><th>OrderDate</th><th>CustomerID</th><th>Product</th><th>Quantity</th><th>Price</th></tr></thead><tbody><tr><td>101</td><td>2024-01-01</td><td>C001</td><td>Laptop</td><td>2</td><td>1000</td></tr><tr><td>102</td><td>2024-01-02</td><td>C002</td><td>Phone</td><td>1</td><td>500</td></tr><tr><td>103</td><td>2024-01-03</td><td>C003</td><td>Tablet</td><td>3</td><td>300</td></tr><tr><td>104</td><td>2024-01-04</td><td>C004</td><td>Monitor</td><td>1</td><td>150</td></tr><tr><td>105</td><td>2024-01-05</td><td>C005</td><td>Mouse</td><td>5</td><td>20</td></tr></tbody></table></div>"
      ]
     },
     "metadata": {
      "application/vnd.databricks.v1+output": {
       "addedWidgets": {},
       "aggData": [],
       "aggError": "",
       "aggOverflow": false,
       "aggSchema": [],
       "aggSeriesLimitReached": false,
       "aggType": "",
       "arguments": {},
       "columnCustomDisplayInfos": {},
       "data": [
        [
         "101",
         "2024-01-01",
         "C001",
         "Laptop",
         "2",
         "1000"
        ],
        [
         "102",
         "2024-01-02",
         "C002",
         "Phone",
         "1",
         "500"
        ],
        [
         "103",
         "2024-01-03",
         "C003",
         "Tablet",
         "3",
         "300"
        ],
        [
         "104",
         "2024-01-04",
         "C004",
         "Monitor",
         "1",
         "150"
        ],
        [
         "105",
         "2024-01-05",
         "C005",
         "Mouse",
         "5",
         "20"
        ]
       ],
       "datasetInfos": [],
       "dbfsResultPath": null,
       "isJsonSchema": true,
       "metadata": {},
       "overflow": false,
       "plotOptions": {
        "customPlotOptions": {},
        "displayType": "table",
        "pivotAggregation": null,
        "pivotColumns": null,
        "xColumns": null,
        "yColumns": null
       },
       "removedWidgets": [],
       "schema": [
        {
         "metadata": "{}",
         "name": "OrderID",
         "type": "\"string\""
        },
        {
         "metadata": "{}",
         "name": "OrderDate",
         "type": "\"string\""
        },
        {
         "metadata": "{}",
         "name": "CustomerID",
         "type": "\"string\""
        },
        {
         "metadata": "{}",
         "name": "Product",
         "type": "\"string\""
        },
        {
         "metadata": "{}",
         "name": "Quantity",
         "type": "\"string\""
        },
        {
         "metadata": "{}",
         "name": "Price",
         "type": "\"string\""
        }
       ],
       "type": "table"
      }
     },
     "output_type": "display_data"
    },
    {
     "output_type": "stream",
     "name": "stdout",
     "output_type": "stream",
     "text": [
      "Delta table created and data written successfully.\n"
     ]
    }
   ],
   "source": [
    "from pyspark.sql.functions import col\n",
    "\n",
    "dbutils.fs.cp(\"file:/Workspace/Shared/Orders.csv\", \"dbfs:/FileStore/Orders.csv\")\n",
    "#Load CSV data into a DataFrame\n",
    "df_orders = spark.read.format(\"csv\").option(\"header\", \"true\").load(\"dbfs:/FileStore/Orders.csv\")\n",
    "\n",
    "# Show the DataFrame schema and data\n",
    "df_orders.printSchema()\n",
    "display(df_orders)\n",
    "\n",
    "# Transform the data: Add a new column for TotalAmount\n",
    "df_transformed = df_orders.withColumn(\"TotalAmount\", col(\"Quantity\").cast(\"int\") * col(\"Price\").cast(\"double\"))\n",
    "\n",
    "# Filter records where Quantity is greater than 5\n",
    "df_filtered = df_transformed.filter(col(\"Quantity\") > 2)\n",
    "\n",
    "# Define the path for the Delta table\n",
    "delta_table_path = \"/delta/Orders\"\n",
    "\n",
    "# Write the transformed data to a Delta table\n",
    "df_filtered.write.format(\"delta\").mode(\"overwrite\").save(delta_table_path)\n",
    "\n",
    "print(\"Delta table created and data written successfully.\")"
   ]
  }
 ],
 "metadata": {
  "application/vnd.databricks.v1+notebook": {
   "dashboards": [],
   "environmentMetadata": null,
   "language": "python",
   "notebookMetadata": {
    "pythonIndentUnit": 4
   },
   "notebookName": "sep17_Assignment_seting _job",
   "widgets": {}
  }
 },
 "nbformat": 4,
 "nbformat_minor": 0
}
