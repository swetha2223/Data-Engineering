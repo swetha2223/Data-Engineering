{
 "cells": [
  {
   "cell_type": "markdown",
   "metadata": {
    "application/vnd.databricks.v1+cell": {
     "cellMetadata": {},
     "inputWidgets": {},
     "nuid": "128bbbf9-b56a-4a4f-90ad-d54e5f999be5",
     "showTitle": false,
     "title": ""
    }
   },
   "source": [
    "Task 1"
   ]
  },
  {
   "cell_type": "code",
   "execution_count": 0,
   "metadata": {
    "application/vnd.databricks.v1+cell": {
     "cellMetadata": {
      "byteLimit": 2048000,
      "rowLimit": 10000
     },
     "inputWidgets": {},
     "nuid": "34357a30-5362-49a4-be42-907fcdec822b",
     "showTitle": false,
     "title": ""
    }
   },
   "outputs": [],
   "source": [
    "#Move the file from Workspace to DBFS\n",
    "dbutils.fs.cp(\"file:/Workspace/Shared/Employees.csv\", \"dbfs:/FileStore/Employees.csv\")\n",
    "#Load CSV data into a DataFrame\n",
    "employees_df = spark.read.format(\"csv\").option(\"header\", \"true\").load(\"dbfs:/FileStore/Employees.csv\")\n",
    "#Write DataFrame to Delta format\n",
    "employees_df.write.format(\"delta\").mode(\"overwrite\").save(\"/delta/Employees\")"
   ]
  },
  {
   "cell_type": "code",
   "execution_count": 0,
   "metadata": {
    "application/vnd.databricks.v1+cell": {
     "cellMetadata": {
      "byteLimit": 2048000,
      "rowLimit": 10000
     },
     "inputWidgets": {},
     "nuid": "cbae3c07-0846-4c1d-939f-cf9f0afff4a3",
     "showTitle": false,
     "title": ""
    }
   },
   "outputs": [],
   "source": [
    "from pyspark.sql.types import StructType, StructField, StringType, IntegerType\n",
    "\n",
    "# Define schema for Products.json file\n",
    "schema = StructType([ \n",
    "                   StructField(\"ProductID\", StringType(), True), \n",
    "                   StructField(\"ProductName\", StringType(), True), \n",
    "                   StructField(\"Category\", StringType(), True), \n",
    "                   StructField(\"Price\", IntegerType(), True) \n",
    "])\n"
   ]
  },
  {
   "cell_type": "code",
   "execution_count": 0,
   "metadata": {
    "application/vnd.databricks.v1+cell": {
     "cellMetadata": {
      "byteLimit": 2048000,
      "rowLimit": 10000
     },
     "inputWidgets": {},
     "nuid": "1fce8033-0c9e-4398-9057-a15474a00509",
     "showTitle": false,
     "title": ""
    }
   },
   "outputs": [
    {
     "output_type": "execute_result",
     "data": {
      "text/plain": [
       "True"
      ]
     },
     "execution_count": 4,
     "metadata": {},
     "output_type": "execute_result"
    }
   ],
   "source": [
    "dbutils.fs.cp(\"file:/Workspace/Shared/Products.json\", \"dbfs:/FileStore/Products.json\")"
   ]
  },
  {
   "cell_type": "code",
   "execution_count": 0,
   "metadata": {
    "application/vnd.databricks.v1+cell": {
     "cellMetadata": {
      "byteLimit": 2048000,
      "rowLimit": 10000
     },
     "inputWidgets": {},
     "nuid": "58eff63d-eaaa-4e89-9687-71608ffe951d",
     "showTitle": false,
     "title": ""
    }
   },
   "outputs": [
    {
     "output_type": "stream",
     "name": "stdout",
     "output_type": "stream",
     "text": [
      "+---------+-----------+-----------+-----+\n|ProductID|ProductName|   Category|Price|\n+---------+-----------+-----------+-----+\n|     P101|     Laptop|Electronics| 1200|\n|     P102|      Phone|Electronics|  800|\n|     P103|     Tablet|Electronics|  600|\n|     P104|    Monitor|Electronics|  300|\n|     P105|      Mouse|Accessories|   25|\n+---------+-----------+-----------+-----+\n\n"
     ]
    }
   ],
   "source": [
    "\n",
    "products_df=spark.read.format(\"json\").schema(schema).load(\"dbfs:/FileStore/Products.json\") \n",
    "products_df.show()\n"
   ]
  },
  {
   "cell_type": "code",
   "execution_count": 0,
   "metadata": {
    "application/vnd.databricks.v1+cell": {
     "cellMetadata": {
      "byteLimit": 2048000,
      "rowLimit": 10000
     },
     "inputWidgets": {},
     "nuid": "ab0bed4c-d52f-44d3-9729-801a34c635ea",
     "showTitle": false,
     "title": ""
    }
   },
   "outputs": [],
   "source": [
    "products_df.write.format(\"delta\").mode(\"overwrite\").save(\"/delta/Products\")"
   ]
  },
  {
   "cell_type": "markdown",
   "metadata": {
    "application/vnd.databricks.v1+cell": {
     "cellMetadata": {},
     "inputWidgets": {},
     "nuid": "081f1aee-5b26-418d-b031-36bd6a8ae954",
     "showTitle": false,
     "title": ""
    }
   },
   "source": [
    "Task 2 "
   ]
  },
  {
   "cell_type": "code",
   "execution_count": 0,
   "metadata": {
    "application/vnd.databricks.v1+cell": {
     "cellMetadata": {
      "byteLimit": 2048000,
      "rowLimit": 10000
     },
     "inputWidgets": {},
     "nuid": "8b90dd4b-00d1-417b-ac77-b8b880a86fe1",
     "showTitle": false,
     "title": ""
    }
   },
   "outputs": [
    {
     "output_type": "execute_result",
     "data": {
      "text/plain": [
       "True"
      ]
     },
     "execution_count": 8,
     "metadata": {},
     "output_type": "execute_result"
    }
   ],
   "source": [
    "dbutils.fs.cp(\"file:/Workspace/Shared/Nwe_Employee.csv\", \"dbfs:/FileStore/Nwe_Employee.csv\")"
   ]
  },
  {
   "cell_type": "code",
   "execution_count": 0,
   "metadata": {
    "application/vnd.databricks.v1+cell": {
     "cellMetadata": {
      "byteLimit": 2048000,
      "rowLimit": 10000
     },
     "inputWidgets": {},
     "nuid": "f7518b43-f40c-48ac-8b3f-8a3be46eaded",
     "showTitle": false,
     "title": ""
    }
   },
   "outputs": [],
   "source": [
    "new_employee_df = spark.read.format(\"csv\").option(\"header\", \"true\").load(\"/FileStore/Nwe_Employee.csv\")\n",
    "new_employee_df.write.format(\"delta\").mode(\"overwrite\").save(\"/delta/Nwe_Employee\")"
   ]
  },
  {
   "cell_type": "code",
   "execution_count": 0,
   "metadata": {
    "application/vnd.databricks.v1+cell": {
     "cellMetadata": {
      "byteLimit": 2048000,
      "rowLimit": 10000
     },
     "inputWidgets": {},
     "nuid": "c4d2f4a5-5944-41f1-ae59-96334ed1c346",
     "showTitle": false,
     "title": ""
    }
   },
   "outputs": [],
   "source": [
    "employee_df = spark.read.format(\"delta\").load(\"/delta/Employees\")\n",
    "new_employee_df = spark.read.format(\"delta\").load(\"/delta/Nwe_Employee\")"
   ]
  },
  {
   "cell_type": "code",
   "execution_count": 0,
   "metadata": {
    "application/vnd.databricks.v1+cell": {
     "cellMetadata": {
      "byteLimit": 2048000,
      "rowLimit": 10000
     },
     "inputWidgets": {},
     "nuid": "4b398c78-9145-4713-b6c1-dfe11700be69",
     "showTitle": false,
     "title": ""
    }
   },
   "outputs": [],
   "source": [
    "# Create temporary views for SQL operations with corrected view names\n",
    "employee_df.createOrReplaceTempView(\"delta_Employees\") \n",
    "\n",
    "new_employee_df.createOrReplaceTempView(\"Nwe_Employee\")"
   ]
  },
  {
   "cell_type": "code",
   "execution_count": 0,
   "metadata": {
    "application/vnd.databricks.v1+cell": {
     "cellMetadata": {
      "byteLimit": 2048000,
      "rowLimit": 10000
     },
     "inputWidgets": {},
     "nuid": "04c3359f-c792-4232-864d-008d0bfbed87",
     "showTitle": false,
     "title": ""
    }
   },
   "outputs": [
    {
     "output_type": "execute_result",
     "data": {
      "text/plain": [
       "DataFrame[num_affected_rows: bigint, num_updated_rows: bigint, num_deleted_rows: bigint, num_inserted_rows: bigint]"
      ]
     },
     "execution_count": 13,
     "metadata": {},
     "output_type": "execute_result"
    }
   ],
   "source": [
    "spark.sql(\"\"\"\n",
    "    MERGE INTO delta_Employees AS target\n",
    "    USING Nwe_Employee AS source\n",
    "    ON target.EmployeeID = source.EmployeeID\n",
    "    WHEN MATCHED THEN UPDATE SET\n",
    "        target.EmployeeName = source.EmployeeName,\n",
    "        target.Department = source.Department,\n",
    "        target.JoiningDate = source.JoiningDate,\n",
    "        target.Salary = source.Salary\n",
    "    WHEN NOT MATCHED THEN INSERT \n",
    "    (\n",
    "        EmployeeID, EmployeeName, Department, JoiningDate, Salary\n",
    "    ) VALUES (\n",
    "        source.EmployeeID, source.EmployeeName, source.Department, source.JoiningDate, source.Salary\n",
    "    )\n",
    "\"\"\")"
   ]
  },
  {
   "cell_type": "code",
   "execution_count": 0,
   "metadata": {
    "application/vnd.databricks.v1+cell": {
     "cellMetadata": {
      "byteLimit": 2048000,
      "rowLimit": 10000
     },
     "inputWidgets": {},
     "nuid": "cc42b37a-8ba1-4a04-8c7e-33385b448907",
     "showTitle": false,
     "title": ""
    }
   },
   "outputs": [
    {
     "output_type": "stream",
     "name": "stdout",
     "output_type": "stream",
     "text": [
      "+----------+------------+-----------+-----------+------+\n|EmployeeID|EmployeeName| Department|JoiningDate|Salary|\n+----------+------------+-----------+-----------+------+\n|       101|        John|         HR| 2023-01-10| 50000|\n|       103|        Mark|Engineering| 2023-03-20| 85000|\n|       104|        Emma|      Sales| 2023-04-01| 55000|\n|       105|        Liam|  Marketing| 2023-05-12| 60000|\n|       102|       Alice|    Finance| 2023-02-15|75000 |\n|       106|      Olivia|         HR| 2023-06-10| 65000|\n+----------+------------+-----------+-----------+------+\n\n"
     ]
    }
   ],
   "source": [
    "spark.sql(\"SELECT * FROM delta_Employees\").show()"
   ]
  },
  {
   "cell_type": "code",
   "execution_count": 0,
   "metadata": {
    "application/vnd.databricks.v1+cell": {
     "cellMetadata": {
      "byteLimit": 2048000,
      "rowLimit": 10000
     },
     "inputWidgets": {},
     "nuid": "4922c5de-a7fb-4243-91fd-7a8ef85d0af1",
     "showTitle": false,
     "title": ""
    }
   },
   "outputs": [
    {
     "output_type": "execute_result",
     "data": {
      "text/plain": [
       "DataFrame[]"
      ]
     },
     "execution_count": 27,
     "metadata": {},
     "output_type": "execute_result"
    }
   ],
   "source": [
    "#Write the employee dataframe to a delta table\n",
    "employees_df.write.format(\"delta\").mode(\"overwrite\").save(\"/delta/Employees\")\n",
    "#Register the delta table\n",
    "spark.sql(\"CREATE TABLE IF NOT EXISTS delta_Employees_table USING DELTA LOCATION '/delta/Employees1'\")"
   ]
  },
  {
   "cell_type": "markdown",
   "metadata": {
    "application/vnd.databricks.v1+cell": {
     "cellMetadata": {},
     "inputWidgets": {},
     "nuid": "c94ab50d-6291-40b9-9cd4-d5c113dd8df1",
     "showTitle": false,
     "title": ""
    }
   },
   "source": [
    "Task 3"
   ]
  },
  {
   "cell_type": "code",
   "execution_count": 0,
   "metadata": {
    "application/vnd.databricks.v1+cell": {
     "cellMetadata": {
      "byteLimit": 2048000,
      "rowLimit": 10000
     },
     "inputWidgets": {},
     "nuid": "50afce44-30f9-4246-85e7-a070f9353571",
     "showTitle": false,
     "title": ""
    }
   },
   "outputs": [
    {
     "output_type": "stream",
     "name": "stdout",
     "output_type": "stream",
     "text": [
      "+------------+---------+-------+\n|col_name    |data_type|comment|\n+------------+---------+-------+\n|EmployeeID  |string   |NULL   |\n|EmployeeName|string   |NULL   |\n|Department  |string   |NULL   |\n|JoiningDate |string   |NULL   |\n|Salary      |string   |NULL   |\n+------------+---------+-------+\n\n"
     ]
    }
   ],
   "source": [
    "# Describe table\n",
    "spark.sql(\"DESCRIBE TABLE delta_Employees\").show(truncate=False)"
   ]
  },
  {
   "cell_type": "code",
   "execution_count": 0,
   "metadata": {
    "application/vnd.databricks.v1+cell": {
     "cellMetadata": {
      "byteLimit": 2048000,
      "rowLimit": 10000
     },
     "inputWidgets": {},
     "nuid": "ee94563a-c3e0-4c2a-acc6-0e2d02c7ea7f",
     "showTitle": false,
     "title": ""
    }
   },
   "outputs": [
    {
     "output_type": "stream",
     "name": "stdout",
     "output_type": "stream",
     "text": [
      "+----------+------------+-----------+-----------+------+\n|EmployeeID|EmployeeName| Department|JoiningDate|Salary|\n+----------+------------+-----------+-----------+------+\n|       101|        John|         HR| 2023-01-10| 50000|\n|       103|        Mark|Engineering| 2023-03-20| 85000|\n|       104|        Emma|      Sales| 2023-04-01| 55000|\n|       105|        Liam|  Marketing| 2023-05-12| 60000|\n|       102|       Alice|    Finance| 2023-02-15|75000 |\n|       106|      Olivia|         HR| 2023-06-10| 65000|\n+----------+------------+-----------+-----------+------+\n\n"
     ]
    }
   ],
   "source": [
    "historical_df = spark.read.format(\"delta\").option(\"versionAsOf\", 1).load(\"/delta/Employees\")\n",
    "historical_df.show()\n"
   ]
  },
  {
   "cell_type": "markdown",
   "metadata": {
    "application/vnd.databricks.v1+cell": {
     "cellMetadata": {},
     "inputWidgets": {},
     "nuid": "afe2392c-36c0-4906-9ae4-85e62f455fd2",
     "showTitle": false,
     "title": ""
    }
   },
   "source": [
    "Task 4: Optimize Delta Table"
   ]
  },
  {
   "cell_type": "code",
   "execution_count": 0,
   "metadata": {
    "application/vnd.databricks.v1+cell": {
     "cellMetadata": {
      "byteLimit": 2048000,
      "rowLimit": 10000
     },
     "inputWidgets": {},
     "nuid": "2bbd387b-c5da-474e-97ca-9d493691d654",
     "showTitle": false,
     "title": ""
    }
   },
   "outputs": [
    {
     "output_type": "execute_result",
     "data": {
      "text/plain": [
       "DataFrame[path: string, metrics: struct<numFilesAdded:bigint,numFilesRemoved:bigint,filesAdded:struct<min:bigint,max:bigint,avg:double,totalFiles:bigint,totalSize:bigint>,filesRemoved:struct<min:bigint,max:bigint,avg:double,totalFiles:bigint,totalSize:bigint>,partitionsOptimized:bigint,zOrderStats:struct<strategyName:string,inputCubeFiles:struct<num:bigint,size:bigint>,inputOtherFiles:struct<num:bigint,size:bigint>,inputNumCubes:bigint,mergedFiles:struct<num:bigint,size:bigint>,numOutputCubes:bigint,mergedNumCubes:bigint>,clusteringStats:struct<inputZCubeFiles:struct<numFiles:bigint,size:bigint>,inputOtherFiles:struct<numFiles:bigint,size:bigint>,inputNumZCubes:bigint,mergedFiles:struct<numFiles:bigint,size:bigint>,numOutputZCubes:bigint>,numBins:bigint,numBatches:bigint,totalConsideredFiles:bigint,totalFilesSkipped:bigint,preserveInsertionOrder:boolean,numFilesSkippedToReduceWriteAmplification:bigint,numBytesSkippedToReduceWriteAmplification:bigint,startTimeMs:bigint,endTimeMs:bigint,totalClusterParallelism:bigint,totalScheduledTasks:bigint,autoCompactParallelismStats:struct<maxClusterActiveParallelism:bigint,minClusterActiveParallelism:bigint,maxSessionActiveParallelism:bigint,minSessionActiveParallelism:bigint>,deletionVectorStats:struct<numDeletionVectorsRemoved:bigint,numDeletionVectorRowsRemoved:bigint>,numTableColumns:bigint,numTableColumnsWithStats:bigint,totalTaskExecutionTimeMs:bigint,skippedArchivedFiles:bigint,clusteringMetrics:struct<sizeOfTableInBytesBeforeLazyClustering:bigint,isNewMetadataCreated:boolean,isPOTriggered:boolean,numFilesSkippedWithoutStats:bigint,numFilesClassifiedToIntermediateNodes:bigint,sizeOfFilesClassifiedToIntermediateNodesInBytes:bigint,logicalSizeOfFilesClassifiedToIntermediateNodesInBytes:bigint,numFilesClassifiedToLeafNodes:bigint,sizeOfFilesClassifiedToLeafNodesInBytes:bigint,logicalSizeOfFilesClassifiedToLeafNodesInBytes:bigint,numThreadsForClassifier:int,clusterThresholdStrategy:string,minFileSize:bigint,maxFileSize:bigint,nodeMinNumFilesToCompact:bigint,numIdealFiles:bigint,numClusteringTasksPlanned:int,numCompactionTasksPlanned:int,numOptimizeBatchesPlanned:int,numLeafNodesExpanded:bigint,numLeafNodesClustered:bigint,numGetFilesForNodeCalls:bigint,numSamplingJobs:bigint,numLeafNodesCompacted:bigint,numIntermediateNodesCompacted:bigint,totalSizeOfDataToCompactInBytes:bigint,totalLogicalSizeOfDataToCompactInBytes:bigint,numIntermediateNodesClustered:bigint,numFilesSkippedAfterExpansion:bigint,totalSizeOfFilesSkippedAfterExpansionInBytes:bigint,totalLogicalSizeOfFilesSkippedAfterExpansionInBytes:bigint,totalSizeOfDataToRewriteInBytes:bigint,totalLogicalSizeOfDataToRewriteInBytes:bigint,timeMetrics:struct<classifierTimeMs:bigint,optimizerTimeMs:bigint,metadataLoadTimeMs:bigint,totalGetFilesForNodeCallsTimeMs:bigint,totalSamplingTimeMs:bigint,metadataCreationTimeMs:bigint>,maxOptimizeBatchesInParallel:bigint,currentIteration:int,maxIterations:int,clusteringStrategy:string>>]"
      ]
     },
     "execution_count": 25,
     "metadata": {},
     "output_type": "execute_result"
    }
   ],
   "source": [
    "spark.sql(\"\"\"\n",
    "    OPTIMIZE delta_Employees_table ZORDER BY Department\n",
    "\"\"\")\n"
   ]
  },
  {
   "cell_type": "markdown",
   "metadata": {
    "application/vnd.databricks.v1+cell": {
     "cellMetadata": {},
     "inputWidgets": {},
     "nuid": "031e9c25-7185-42fb-adfd-89514527a369",
     "showTitle": false,
     "title": ""
    }
   },
   "source": [
    "Task5"
   ]
  },
  {
   "cell_type": "code",
   "execution_count": 0,
   "metadata": {
    "application/vnd.databricks.v1+cell": {
     "cellMetadata": {
      "byteLimit": 2048000,
      "rowLimit": 10000
     },
     "inputWidgets": {},
     "nuid": "25afcb89-1d38-4f57-8536-371406dd1359",
     "showTitle": false,
     "title": ""
    }
   },
   "outputs": [
    {
     "output_type": "stream",
     "name": "stdout",
     "output_type": "stream",
     "text": [
      "+----------+------------+-----------+-----------+------+\n|EmployeeID|EmployeeName| Department|JoiningDate|Salary|\n+----------+------------+-----------+-----------+------+\n|       101|        John|         HR| 2023-01-10| 50000|\n|       102|       Alice|    Finance| 2023-02-15| 70000|\n|       103|        Mark|Engineering| 2023-03-20| 85000|\n|       104|        Emma|      Sales| 2023-04-01| 55000|\n|       105|        Liam|  Marketing| 2023-05-12| 60000|\n+----------+------------+-----------+-----------+------+\n\n"
     ]
    }
   ],
   "source": [
    "# Retrieve the table as it was before the last merge\n",
    "historical_df = spark.read.format(\"delta\").option(\"versionAsOf\", 0).load(\"/delta/Employees\")\n",
    "historical_df.show()\n"
   ]
  },
  {
   "cell_type": "code",
   "execution_count": 0,
   "metadata": {
    "application/vnd.databricks.v1+cell": {
     "cellMetadata": {
      "byteLimit": 2048000,
      "rowLimit": 10000
     },
     "inputWidgets": {},
     "nuid": "c15481de-18e5-4074-975a-0293cee767e9",
     "showTitle": false,
     "title": ""
    }
   },
   "outputs": [
    {
     "output_type": "stream",
     "name": "stdout",
     "output_type": "stream",
     "text": [
      "+----------+------------+-----------+-----------+------+\n|EmployeeID|EmployeeName| Department|JoiningDate|Salary|\n+----------+------------+-----------+-----------+------+\n|       101|        John|         HR| 2023-01-10| 50000|\n|       103|        Mark|Engineering| 2023-03-20| 85000|\n|       104|        Emma|      Sales| 2023-04-01| 55000|\n|       105|        Liam|  Marketing| 2023-05-12| 60000|\n|       102|       Alice|    Finance| 2023-02-15|75000 |\n|       106|      Olivia|         HR| 2023-06-10| 65000|\n+----------+------------+-----------+-----------+------+\n\n"
     ]
    }
   ],
   "source": [
    "\n",
    "historical_df = spark.read.format(\"delta\").option(\"versionAsOf\", 1).load(\"/delta/Employees\")\n",
    "historical_df.show()"
   ]
  },
  {
   "cell_type": "markdown",
   "metadata": {
    "application/vnd.databricks.v1+cell": {
     "cellMetadata": {},
     "inputWidgets": {},
     "nuid": "660e1e8d-a3e5-491f-b378-6019b09c7305",
     "showTitle": false,
     "title": ""
    }
   },
   "source": [
    "Task 6"
   ]
  },
  {
   "cell_type": "code",
   "execution_count": 0,
   "metadata": {
    "application/vnd.databricks.v1+cell": {
     "cellMetadata": {},
     "inputWidgets": {},
     "nuid": "5ce24b8f-b89d-422f-a6f2-bb1717bd9ec1",
     "showTitle": false,
     "title": ""
    }
   },
   "outputs": [],
   "source": [
    "spark.sql(\"\"\"\n",
    "\tVACUUM delta_Employees RETAIN 168 HOURS\n",
    "\"\"\")"
   ]
  }
 ],
 "metadata": {
  "application/vnd.databricks.v1+notebook": {
   "dashboards": [],
   "environmentMetadata": null,
   "language": "python",
   "notebookMetadata": {
    "pythonIndentUnit": 4
   },
   "notebookName": "sep17_Assignment_DeltaLake",
   "widgets": {}
  }
 },
 "nbformat": 4,
 "nbformat_minor": 0
}
